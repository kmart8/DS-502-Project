{
 "cells": [
  {
   "cell_type": "code",
   "execution_count": 50,
   "metadata": {
    "_cell_guid": "b1076dfc-b9ad-4769-8c92-a6c4dae69d19",
    "_uuid": "8f2839f25d086af736a60e9eeb907d3b93b6e0e5"
   },
   "outputs": [],
   "source": [
    "## IMPORT LIBRARIES\n",
    "\n",
    "import numpy as np\n",
    "import pandas as pd\n",
    "import matplotlib.pyplot as plt\n",
    "import seaborn as sns\n",
    "from sklearn.metrics import mean_absolute_error\n",
    "from sklearn.model_selection import train_test_split\n",
    "from sklearn.tree import DecisionTreeRegressor\n",
    "from sklearn.ensemble import RandomForestRegressor\n",
    "from sklearn import linear_model\n",
    "from sklearn.preprocessing import StandardScaler\n",
    "\n",
    "# import os\n",
    "# for dirname, _, filenames in os.walk('/kaggle/input'):\n",
    "#     for filename in filenames:\n",
    "#         print(os.path.join(dirname, filename))"
   ]
  },
  {
   "cell_type": "code",
   "execution_count": 85,
   "metadata": {
    "_cell_guid": "79c7e3d0-c299-4dcb-8224-4455121ee9b0",
    "_uuid": "d629ff2d2480ee46fbb7e2d37f6b5fab8052498a"
   },
   "outputs": [
    {
     "data": {
      "text/html": [
       "<div>\n",
       "<style scoped>\n",
       "    .dataframe tbody tr th:only-of-type {\n",
       "        vertical-align: middle;\n",
       "    }\n",
       "\n",
       "    .dataframe tbody tr th {\n",
       "        vertical-align: top;\n",
       "    }\n",
       "\n",
       "    .dataframe thead th {\n",
       "        text-align: right;\n",
       "    }\n",
       "</style>\n",
       "<table border=\"1\" class=\"dataframe\">\n",
       "  <thead>\n",
       "    <tr style=\"text-align: right;\">\n",
       "      <th></th>\n",
       "      <th>Unnamed: 0</th>\n",
       "      <th>BOROUGH</th>\n",
       "      <th>NEIGHBORHOOD</th>\n",
       "      <th>BUILDING CLASS CATEGORY</th>\n",
       "      <th>TAX CLASS AT PRESENT</th>\n",
       "      <th>BLOCK</th>\n",
       "      <th>LOT</th>\n",
       "      <th>EASE-MENT</th>\n",
       "      <th>BUILDING CLASS AT PRESENT</th>\n",
       "      <th>ADDRESS</th>\n",
       "      <th>...</th>\n",
       "      <th>LAND SQUARE FEET</th>\n",
       "      <th>GROSS SQUARE FEET</th>\n",
       "      <th>YEAR BUILT</th>\n",
       "      <th>TAX CLASS AT TIME OF SALE</th>\n",
       "      <th>BUILDING CLASS AT TIME OF SALE</th>\n",
       "      <th>SALE PRICE</th>\n",
       "      <th>SALE DATE</th>\n",
       "      <th>sale_price_int</th>\n",
       "      <th>land_square_feet_int</th>\n",
       "      <th>gross_square_feet_int</th>\n",
       "    </tr>\n",
       "  </thead>\n",
       "  <tbody>\n",
       "    <tr>\n",
       "      <th>223</th>\n",
       "      <td>227</td>\n",
       "      <td>1</td>\n",
       "      <td>CHELSEA</td>\n",
       "      <td>07 RENTALS - WALKUP APARTMENTS</td>\n",
       "      <td>2B</td>\n",
       "      <td>765</td>\n",
       "      <td>25</td>\n",
       "      <td></td>\n",
       "      <td>C4</td>\n",
       "      <td>219 WEST 15TH STREET</td>\n",
       "      <td>...</td>\n",
       "      <td>1566</td>\n",
       "      <td>6330</td>\n",
       "      <td>1901</td>\n",
       "      <td>2</td>\n",
       "      <td>C4</td>\n",
       "      <td>416790</td>\n",
       "      <td>2017-08-31 00:00:00</td>\n",
       "      <td>416790</td>\n",
       "      <td>1566</td>\n",
       "      <td>6330</td>\n",
       "    </tr>\n",
       "    <tr>\n",
       "      <th>224</th>\n",
       "      <td>228</td>\n",
       "      <td>1</td>\n",
       "      <td>CHELSEA</td>\n",
       "      <td>07 RENTALS - WALKUP APARTMENTS</td>\n",
       "      <td>2B</td>\n",
       "      <td>765</td>\n",
       "      <td>25</td>\n",
       "      <td></td>\n",
       "      <td>C4</td>\n",
       "      <td>219 WEST 15TH STREET</td>\n",
       "      <td>...</td>\n",
       "      <td>1566</td>\n",
       "      <td>6330</td>\n",
       "      <td>1901</td>\n",
       "      <td>2</td>\n",
       "      <td>C4</td>\n",
       "      <td>630370</td>\n",
       "      <td>2017-08-31 00:00:00</td>\n",
       "      <td>630370</td>\n",
       "      <td>1566</td>\n",
       "      <td>6330</td>\n",
       "    </tr>\n",
       "    <tr>\n",
       "      <th>277</th>\n",
       "      <td>281</td>\n",
       "      <td>1</td>\n",
       "      <td>CHELSEA</td>\n",
       "      <td>09 COOPS - WALKUP APARTMENTS</td>\n",
       "      <td>2</td>\n",
       "      <td>744</td>\n",
       "      <td>32</td>\n",
       "      <td></td>\n",
       "      <td>C6</td>\n",
       "      <td>309 WEST 20TH   STREET</td>\n",
       "      <td>...</td>\n",
       "      <td>4600</td>\n",
       "      <td>12200</td>\n",
       "      <td>1850</td>\n",
       "      <td>2</td>\n",
       "      <td>C6</td>\n",
       "      <td>282000</td>\n",
       "      <td>2016-10-19 00:00:00</td>\n",
       "      <td>282000</td>\n",
       "      <td>4600</td>\n",
       "      <td>12200</td>\n",
       "    </tr>\n",
       "    <tr>\n",
       "      <th>2062</th>\n",
       "      <td>2066</td>\n",
       "      <td>1</td>\n",
       "      <td>FASHION</td>\n",
       "      <td>23 LOFT BUILDINGS</td>\n",
       "      <td>4</td>\n",
       "      <td>805</td>\n",
       "      <td>39</td>\n",
       "      <td></td>\n",
       "      <td>L1</td>\n",
       "      <td>115-123 W 29TH</td>\n",
       "      <td>...</td>\n",
       "      <td>6994</td>\n",
       "      <td>79465</td>\n",
       "      <td>1913</td>\n",
       "      <td>4</td>\n",
       "      <td>L1</td>\n",
       "      <td>220000</td>\n",
       "      <td>2016-12-19 00:00:00</td>\n",
       "      <td>220000</td>\n",
       "      <td>6994</td>\n",
       "      <td>79465</td>\n",
       "    </tr>\n",
       "    <tr>\n",
       "      <th>2587</th>\n",
       "      <td>2591</td>\n",
       "      <td>1</td>\n",
       "      <td>FLATIRON</td>\n",
       "      <td>08 RENTALS - ELEVATOR APARTMENTS</td>\n",
       "      <td>2</td>\n",
       "      <td>844</td>\n",
       "      <td>8</td>\n",
       "      <td></td>\n",
       "      <td>D6</td>\n",
       "      <td>9 EAST 16TH   STREET</td>\n",
       "      <td>...</td>\n",
       "      <td>4600</td>\n",
       "      <td>30680</td>\n",
       "      <td>1900</td>\n",
       "      <td>2</td>\n",
       "      <td>D6</td>\n",
       "      <td>489854</td>\n",
       "      <td>2017-01-27 00:00:00</td>\n",
       "      <td>489854</td>\n",
       "      <td>4600</td>\n",
       "      <td>30680</td>\n",
       "    </tr>\n",
       "  </tbody>\n",
       "</table>\n",
       "<p>5 rows × 25 columns</p>\n",
       "</div>"
      ],
      "text/plain": [
       "      Unnamed: 0  BOROUGH NEIGHBORHOOD  \\\n",
       "223          227        1      CHELSEA   \n",
       "224          228        1      CHELSEA   \n",
       "277          281        1      CHELSEA   \n",
       "2062        2066        1      FASHION   \n",
       "2587        2591        1     FLATIRON   \n",
       "\n",
       "                          BUILDING CLASS CATEGORY TAX CLASS AT PRESENT  BLOCK  \\\n",
       "223   07 RENTALS - WALKUP APARTMENTS                                2B    765   \n",
       "224   07 RENTALS - WALKUP APARTMENTS                                2B    765   \n",
       "277   09 COOPS - WALKUP APARTMENTS                                   2    744   \n",
       "2062  23 LOFT BUILDINGS                                              4    805   \n",
       "2587  08 RENTALS - ELEVATOR APARTMENTS                               2    844   \n",
       "\n",
       "      LOT EASE-MENT BUILDING CLASS AT PRESENT                 ADDRESS  ...  \\\n",
       "223    25                                  C4    219 WEST 15TH STREET  ...   \n",
       "224    25                                  C4    219 WEST 15TH STREET  ...   \n",
       "277    32                                  C6  309 WEST 20TH   STREET  ...   \n",
       "2062   39                                  L1          115-123 W 29TH  ...   \n",
       "2587    8                                  D6    9 EAST 16TH   STREET  ...   \n",
       "\n",
       "     LAND SQUARE FEET  GROSS SQUARE FEET  YEAR BUILT  \\\n",
       "223              1566               6330        1901   \n",
       "224              1566               6330        1901   \n",
       "277              4600              12200        1850   \n",
       "2062             6994              79465        1913   \n",
       "2587             4600              30680        1900   \n",
       "\n",
       "      TAX CLASS AT TIME OF SALE  BUILDING CLASS AT TIME OF SALE SALE PRICE  \\\n",
       "223                           2                              C4     416790   \n",
       "224                           2                              C4     630370   \n",
       "277                           2                              C6     282000   \n",
       "2062                          4                              L1     220000   \n",
       "2587                          2                              D6     489854   \n",
       "\n",
       "                SALE DATE  sale_price_int  land_square_feet_int  \\\n",
       "223   2017-08-31 00:00:00          416790                  1566   \n",
       "224   2017-08-31 00:00:00          630370                  1566   \n",
       "277   2016-10-19 00:00:00          282000                  4600   \n",
       "2062  2016-12-19 00:00:00          220000                  6994   \n",
       "2587  2017-01-27 00:00:00          489854                  4600   \n",
       "\n",
       "     gross_square_feet_int  \n",
       "223                   6330  \n",
       "224                   6330  \n",
       "277                  12200  \n",
       "2062                 79465  \n",
       "2587                 30680  \n",
       "\n",
       "[5 rows x 25 columns]"
      ]
     },
     "execution_count": 85,
     "metadata": {},
     "output_type": "execute_result"
    }
   ],
   "source": [
    "# Path of the file to read\n",
    "NYC_File_Path = 'nyc-rolling-sales.csv'\n",
    "\n",
    "# Data Cleaning\n",
    "home_data = pd.read_csv(NYC_File_Path)\n",
    "home_data = home_data.dropna(axis=0)\n",
    "home_data = home_data[home_data['LAND SQUARE FEET'] != ' -  ']\n",
    "home_data = home_data[home_data['SALE PRICE'] != ' -  ']\n",
    "home_data = home_data[home_data['GROSS SQUARE FEET'] != ' -  ']\n",
    "\n",
    "# Adding integer type columns\n",
    "sale_price = pd.to_numeric(home_data['SALE PRICE'], errors='coerce')\n",
    "land_square_feet = pd.to_numeric(home_data['LAND SQUARE FEET'], errors='coerce')\n",
    "gross_square_feet = pd.to_numeric(home_data['GROSS SQUARE FEET'], errors='coerce')\n",
    "home_data['sale_price_int'] = sale_price\n",
    "home_data['land_square_feet_int'] = land_square_feet\n",
    "home_data['gross_square_feet_int'] = gross_square_feet\n",
    "\n",
    "# Removing values of transactions less than $ 1000 (not reflective of true value)\n",
    "home_data = home_data[home_data['sale_price_int'] > 1000] # removing nonsense values\n",
    "home_data = home_data[home_data['sale_price_int'] < 1000000]\n",
    "home_data.to_csv('nyc-rolling-sales-cleaned.csv')\n",
    "\n",
    "# Create target object and call it y\n",
    "y = home_data.sale_price_int\n",
    "max_price = max(y)\n",
    "avg_price = y.mean()"
   ]
  },
  {
   "cell_type": "code",
   "execution_count": 73,
   "metadata": {},
   "outputs": [
    {
     "name": "stdout",
     "output_type": "stream",
     "text": [
      "(23086, 9) (23086,)\n",
      "(5772, 9) (5772,)\n",
      "370\n",
      "Validation MSE specifying max leaf nodes 133046.79200907535\n"
     ]
    }
   ],
   "source": [
    "# Create X - Choosing features I think would be most influential\n",
    "features = ['RESIDENTIAL UNITS','COMMERCIAL UNITS', 'TOTAL UNITS', 'land_square_feet_int',\n",
    "       'gross_square_feet_int','BOROUGH','TAX CLASS AT TIME OF SALE','ZIP CODE','YEAR BUILT']\n",
    "X = home_data[features]\n",
    "\n",
    "# Split into validation and training data\n",
    "train_X, val_X, train_y, val_y = train_test_split(X, y, random_state=1,test_size=0.2)\n",
    "print(train_X.shape, train_y.shape)\n",
    "print(val_X.shape, val_y.shape)\n",
    "candidate_max_leaf_nodes = list(range(2,500))\n",
    "# Write loop to find the ideal tree size from candidate_max_leaf_nodes\n",
    "leaf = []\n",
    "def get_mae(max_leaf_nodes, train_X, val_X, train_y, val_y):\n",
    "    model = DecisionTreeRegressor(max_leaf_nodes=max_leaf_nodes, random_state=0)\n",
    "    model.fit(train_X, train_y)\n",
    "    preds_val = model.predict(val_X)\n",
    "    mae = mean_absolute_error(val_y, preds_val)\n",
    "    return(mae)\n",
    "\n",
    "for index,n in enumerate(candidate_max_leaf_nodes):\n",
    "    k = get_mae(n, train_X, val_X, train_y, val_y)\n",
    "    leaf.append(k) \n",
    "# Store the best value of max_leaf_nodes \n",
    "best_tree_size = candidate_max_leaf_nodes[leaf.index(min(leaf))]\n",
    "print(best_tree_size)\n",
    "\n",
    "# Specify Model\n",
    "home_model = DecisionTreeRegressor(random_state=0,max_leaf_nodes=best_tree_size)\n",
    "\n",
    "# Fit Model\n",
    "home_model.fit(train_X, train_y)\n",
    "\n",
    "# Make validation predictions and calculate mean absolute error\n",
    "val_predictions = home_model.predict(val_X)\n",
    "val_mae = mean_absolute_error(val_predictions, val_y)\n",
    "print(\"Validation MSE specifying max leaf nodes {}\".format(val_mae))"
   ]
  },
  {
   "cell_type": "code",
   "execution_count": 74,
   "metadata": {},
   "outputs": [
    {
     "data": {
      "image/png": "[encoded data removed]",
      "text/plain": [
       "<Figure size 432x288 with 1 Axes>"
      ]
     },
     "metadata": {
      "needs_background": "light"
     },
     "output_type": "display_data"
    },
    {
     "name": "stdout",
     "output_type": "stream",
     "text": [
      "Validation MSE for Random Forest Model: 127143.65969621109\n",
      "0.24173005693470492\n"
     ]
    }
   ],
   "source": [
    "## RANDOM FOREST\n",
    "# Define the model\n",
    "\n",
    "rf_model = RandomForestRegressor(random_state=0,n_estimators=200)\n",
    "\n",
    "# fit model\n",
    "rf_model.fit(train_X,train_y)\n",
    "\n",
    "# Calculate the mean absolute error of Random Forest model on the validation data\n",
    "val_predictions = rf_model.predict(val_X)\n",
    "rf_val_mae = mean_absolute_error(val_predictions, val_y)\n",
    "\n",
    "plt.scatter(val_y,val_predictions)\n",
    "plt.ylabel('Predictions')\n",
    "plt.xlabel('Actual')\n",
    "plt.show()\n",
    "print(\"Validation MSE for Random Forest Model: {}\".format(rf_val_mae))\n",
    "print(rf_val_mae/avg_price)"
   ]
  },
  {
   "cell_type": "code",
   "execution_count": 78,
   "metadata": {},
   "outputs": [
    {
     "name": "stdout",
     "output_type": "stream",
     "text": [
      "9999\n",
      "Validation MSE 200623.06081774738\n",
      "0.38143171299114376\n"
     ]
    }
   ],
   "source": [
    "# RIDGE\n",
    "l = list(range(7000,10000))\n",
    "home_model_CV = RidgeCV(alphas=l)\n",
    "home_model = home_model_CV.fit(train_X,train_y)\n",
    "print(home_model.alpha_)\n",
    "val_predictions = home_model.predict(val_X)\n",
    "val_mae = mean_absolute_error(val_predictions, val_y)\n",
    "print(\"Validation MSE {}\".format(val_mae))\n",
    "print(val_mae/avg_price)"
   ]
  },
  {
   "cell_type": "code",
   "execution_count": 83,
   "metadata": {},
   "outputs": [
    {
     "name": "stdout",
     "output_type": "stream",
     "text": [
      "3398\n",
      "Validation MSE 200004.55623576415\n",
      "0.3802557900377349\n"
     ]
    },
    {
     "name": "stderr",
     "output_type": "stream",
     "text": [
      "/Users/kevinmartin/anaconda3/lib/python3.7/site-packages/sklearn/linear_model/coordinate_descent.py:471: ConvergenceWarning: Objective did not converge. You might want to increase the number of iterations. Duality gap: 520770821278979.06, tolerance: 108819075300.77757\n",
      "  tol, rng, random, positive)\n",
      "/Users/kevinmartin/anaconda3/lib/python3.7/site-packages/sklearn/linear_model/coordinate_descent.py:471: ConvergenceWarning: Objective did not converge. You might want to increase the number of iterations. Duality gap: 521135806651731.2, tolerance: 109013154148.02646\n",
      "  tol, rng, random, positive)\n",
      "/Users/kevinmartin/anaconda3/lib/python3.7/site-packages/sklearn/linear_model/coordinate_descent.py:471: ConvergenceWarning: Objective did not converge. You might want to increase the number of iterations. Duality gap: 521214984428215.4, tolerance: 109329805785.92184\n",
      "  tol, rng, random, positive)\n",
      "/Users/kevinmartin/anaconda3/lib/python3.7/site-packages/sklearn/linear_model/coordinate_descent.py:471: ConvergenceWarning: Objective did not converge. You might want to increase the number of iterations. Duality gap: 514591770757453.75, tolerance: 107900055680.29675\n",
      "  tol, rng, random, positive)\n",
      "/Users/kevinmartin/anaconda3/lib/python3.7/site-packages/sklearn/linear_model/coordinate_descent.py:471: ConvergenceWarning: Objective did not converge. You might want to increase the number of iterations. Duality gap: 516094453494103.8, tolerance: 107996695793.45744\n",
      "  tol, rng, random, positive)\n"
     ]
    }
   ],
   "source": [
    "#LASSO\n",
    "home_model_CV = LassoCV(alphas=[3398,1],cv=5)\n",
    "home_model = home_model_CV.fit(train_X,train_y)\n",
    "print(home_model.alpha_)\n",
    "val_predictions=home_model.predict(val_X)\n",
    "val_mae = mean_absolute_error(val_predictions, val_y)\n",
    "print(\"Validation MSE {}\".format(val_mae))\n",
    "print(val_mae/avg_price)"
   ]
  },
  {
   "cell_type": "code",
   "execution_count": 84,
   "metadata": {},
   "outputs": [
    {
     "name": "stdout",
     "output_type": "stream",
     "text": [
      "Validation MSE 198941.90592344553\n",
      "0.37823544139343585\n"
     ]
    }
   ],
   "source": [
    "lm = linear_model.LinearRegression()\n",
    "model = lm.fit(train_X, train_y)\n",
    "val_predictions = lm.predict(val_X)\n",
    "val_mae = mean_absolute_error(val_predictions, val_y)\n",
    "print(\"Validation MSE {}\".format(val_mae))\n",
    "print(val_mae/avg_price)"
   ]
  },
  {
   "cell_type": "code",
   "execution_count": 15,
   "metadata": {},
   "outputs": [
    {
     "data": {
      "text/plain": [
       "<matplotlib.axes._subplots.AxesSubplot at 0x7fc267a5beb8>"
      ]
     },
     "execution_count": 15,
     "metadata": {},
     "output_type": "execute_result"
    },
    {
     "data": {
      "image/png": "[encoded data removed]",
      "text/plain": [
       "<Figure size 792x648 with 2 Axes>"
      ]
     },
     "metadata": {
      "needs_background": "light"
     },
     "output_type": "display_data"
    }
   ],
   "source": [
    "## CORRELATION MATRIX\n",
    "corr = home_data.corr()\n",
    "# Generate a mask for the upper triangle\n",
    "mask = np.zeros_like(corr, dtype=np.bool)\n",
    "mask[np.triu_indices_from(mask)] = True\n",
    "\n",
    "# Set up the matplotlib figure\n",
    "f, ax = plt.subplots(figsize=(11, 9))\n",
    "\n",
    "# Generate a custom diverging colormap\n",
    "cmap = sns.diverging_palette(220, 10, as_cmap=True)\n",
    "\n",
    "# Draw the heatmap with the mask and correct aspect ratio\n",
    "sns.heatmap(corr, mask=mask, cmap=cmap, vmax=1,vmin=-1, center=0,\n",
    "            square=True, linewidths=.5, cbar_kws={\"shrink\": .5})"
   ]
  },
  {
   "cell_type": "code",
   "execution_count": null,
   "metadata": {},
   "outputs": [],
   "source": [
    "sns.pairplot(train_data)"
   ]
  }
 ],
 "metadata": {
  "kernelspec": {
   "display_name": "Python 3",
   "language": "python",
   "name": "python3"
  },
  "language_info": {
   "codemirror_mode": {
    "name": "ipython",
    "version": 3
   },
   "file_extension": ".py",
   "mimetype": "text/x-python",
   "name": "python",
   "nbconvert_exporter": "python",
   "pygments_lexer": "ipython3",
   "version": "3.7.3"
  }
 },
 "nbformat": 4,
 "nbformat_minor": 4
}
